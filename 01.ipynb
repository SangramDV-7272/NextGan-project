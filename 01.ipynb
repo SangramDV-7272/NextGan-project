{
 "cells": [
  {
   "cell_type": "markdown",
   "metadata": {},
   "source": [
    "# 1. Descriptive Analysis"
   ]
  },
  {
   "cell_type": "markdown",
   "metadata": {},
   "source": [
    "### 1. Analyze the distribution of movie ratings. What percentage of movies have high (5), medium (3-4), and low (1-2) ratings?"
   ]
  },
  {
   "cell_type": "code",
   "execution_count": 12,
   "metadata": {},
   "outputs": [
    {
     "name": "stdout",
     "output_type": "stream",
     "text": [
      "\n",
      "Ratings distribution:\n",
      "High 22\n",
      "Medium 61\n",
      "Low 16\n"
     ]
    }
   ],
   "source": [
    "ratings = open(r\"D:\\for practice\\ml-1m\\ratings.dat\")\n",
    "rating_distribution = dict()\n",
    "movieId_count = dict()\n",
    "\n",
    "for line in ratings:\n",
    "    line = line.strip()\n",
    "    columns = list(map(int, line.split('::')))\n",
    "    if columns[2] == 5:\n",
    "        columns.append('High')\n",
    "    elif columns[2] == 4 or columns[2] == 3:\n",
    "        columns.append('Medium')\n",
    "    else:\n",
    "        columns.append('Low')\n",
    "\n",
    "    if columns[1] in movieId_count:\n",
    "        movieId_count[columns[1]] += 1\n",
    "    else: \n",
    "        movieId_count[columns[1]] = 1\n",
    "\n",
    "    if columns[4] in rating_distribution:\n",
    "        rating_distribution[columns[4]] += 1\n",
    "    else:\n",
    "        rating_distribution[columns[4]] = 1\n",
    "\n",
    "\n",
    "print(\"\\nRatings distribution:\")\n",
    "for rating_range in rating_distribution:\n",
    "    print('{0} {1}'.format(rating_range, int(rating_distribution[rating_range] / sum(rating_distribution.values()) * 100)))\n"
   ]
  },
  {
   "cell_type": "markdown",
   "metadata": {},
   "source": [
    "### 2. Identify the top 10 most-rated movies"
   ]
  },
  {
   "cell_type": "code",
   "execution_count": 14,
   "metadata": {},
   "outputs": [
    {
     "name": "stdout",
     "output_type": "stream",
     "text": [
      "\n",
      "Top 10 movies with highest ratings:\n",
      "Movie NameAmerican Beauty (1999): 3428 ratings\n",
      "Movie NameStar Wars: Episode IV - A New Hope (1977): 2991 ratings\n",
      "Movie NameStar Wars: Episode V - The Empire Strikes Back (1980): 2990 ratings\n",
      "Movie NameStar Wars: Episode VI - Return of the Jedi (1983): 2883 ratings\n",
      "Movie NameJurassic Park (1993): 2672 ratings\n",
      "Movie NameSaving Private Ryan (1998): 2653 ratings\n",
      "Movie NameTerminator 2: Judgment Day (1991): 2649 ratings\n",
      "Movie NameMatrix, The (1999): 2590 ratings\n",
      "Movie NameBack to the Future (1985): 2583 ratings\n",
      "Movie NameSilence of the Lambs, The (1991): 2578 ratings\n"
     ]
    }
   ],
   "source": [
    "\n",
    "movies = open(r'D:\\for practice\\ml-1m\\movies.dat')\n",
    "movieId_name = dict()\n",
    "for line in movies:\n",
    "    line = line.strip()\n",
    "    columns = line.split('::')\n",
    "    movieId_name[int(columns[0])] = columns[1]\n",
    "\n",
    "print(\"\\nTop 10 movies with highest ratings:\")\n",
    "sorted_counted_data = sorted(movieId_count.items(), key = lambda x:x[1], reverse=True)[:10]\n",
    "for movieId, count in sorted_counted_data:\n",
    "    print(f\"Movie Name{movieId_name[movieId]}: {count} ratings\")"
   ]
  },
  {
   "cell_type": "code",
   "execution_count": null,
   "metadata": {},
   "outputs": [],
   "source": []
  }
 ],
 "metadata": {
  "kernelspec": {
   "display_name": "Python 3",
   "language": "python",
   "name": "python3"
  },
  "language_info": {
   "codemirror_mode": {
    "name": "ipython",
    "version": 3
   },
   "file_extension": ".py",
   "mimetype": "text/x-python",
   "name": "python",
   "nbconvert_exporter": "python",
   "pygments_lexer": "ipython3",
   "version": "3.13.1"
  }
 },
 "nbformat": 4,
 "nbformat_minor": 2
}
