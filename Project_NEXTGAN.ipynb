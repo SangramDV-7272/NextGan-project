{
 "cells": [
  {
   "cell_type": "markdown",
   "id": "0bf1f888-5014-4611-ba79-b97a3cbd5fa7",
   "metadata": {},
   "source": [
    "# Project 1"
   ]
  },
  {
   "cell_type": "code",
   "execution_count": 6,
   "id": "af6e91e0-9822-4b8e-9e7e-fc3bad0eeb3d",
   "metadata": {},
   "outputs": [
    {
     "name": "stdout",
     "output_type": "stream",
     "text": [
      "High 22\n",
      "Medium 61\n",
      "Low 16\n",
      "American Beauty (1999) 3428\n",
      "Star Wars: Episode IV - A New Hope (1977) 2991\n",
      "Star Wars: Episode V - The Empire Strikes Back (1980) 2990\n",
      "Star Wars: Episode VI - Return of the Jedi (1983) 2883\n",
      "Jurassic Park (1993) 2672\n",
      "Saving Private Ryan (1998) 2653\n",
      "Terminator 2: Judgment Day (1991) 2649\n",
      "Matrix, The (1999) 2590\n",
      "Back to the Future (1985) 2583\n",
      "Silence of the Lambs, The (1991) 2578\n"
     ]
    }
   ],
   "source": [
    "# First Solution - Descriptive Analysys\n",
    "\n",
    "ratings = open(r\"D:\\for practice\\ml-1m\\ratings.dat\")\n",
    "rating_distribution = dict()\n",
    "movieId_count = dict()\n",
    "\n",
    "for line in ratings:\n",
    "    line = line.strip()\n",
    "    columns = list(map(int, line.split('::')))\n",
    "    if columns[2] == 5:\n",
    "        columns.append('High')\n",
    "    elif columns[2] == 4 or columns[2] == 3:\n",
    "        columns.append('Medium')\n",
    "    else:\n",
    "        columns.append('Low')\n",
    "\n",
    "    if columns[1] in movieId_count:\n",
    "        movieId_count[columns[1]] += 1\n",
    "    else: \n",
    "        movieId_count[columns[1]] = 1\n",
    "\n",
    "    if columns[4] in rating_distribution:\n",
    "        rating_distribution[columns[4]] += 1\n",
    "    else:\n",
    "        rating_distribution[columns[4]] = 1\n",
    "\n",
    "for rating_range in rating_distribution:\n",
    "    print('{0} {1}'.format(rating_range, int(rating_distribution[rating_range] / sum(rating_distribution.values()) * 100)))\n",
    "\n",
    "movies = open(r'D:\\for practice\\ml-1m\\movies.dat')\n",
    "movieId_name = dict()\n",
    "for line in movies:\n",
    "    line = line.strip()\n",
    "    columns = line.split('::')\n",
    "    movieId_name[int(columns[0])] = columns[1]\n",
    "    \n",
    "sorted_counted_data = sorted(movieId_count.items(), key = lambda x:x[1], reverse=True)[:10]\n",
    "for movieId, count in sorted_counted_data:\n",
    "    print(movieId_name[movieId], count)"
   ]
  },
  {
   "cell_type": "code",
   "execution_count": null,
   "id": "b7fd2e9c-5596-4d35-aa9d-6f21528617d4",
   "metadata": {},
   "outputs": [],
   "source": []
  },
  {
   "cell_type": "markdown",
   "id": "f7b15bce-58bc-4c24-bd84-606aa62757f9",
   "metadata": {},
   "source": [
    "# Project 2"
   ]
  },
  {
   "cell_type": "code",
   "execution_count": 7,
   "id": "c7af781c-340d-4a3a-8f02-e68915831c59",
   "metadata": {},
   "outputs": [
    {
     "name": "stdout",
     "output_type": "stream",
     "text": [
      "Most frequently rated Genres =  ('Drama', [2597.0199999999995, 759]) \n",
      "\n",
      "top 10 high rated Genres \n",
      "Comedy|Drama|Western : 4.48\n",
      "Sci-Fi|War : 4.45\n",
      "Film-Noir|Mystery : 4.36\n",
      "Film-Noir|Romance|Thriller : 4.29\n",
      "Action|Adventure|Drama|Sci-Fi|War : 4.29\n",
      "Film-Noir|Sci-Fi : 4.27\n",
      "Adventure|Children's|Drama|Musical : 4.25\n",
      "Action|Adventure|Romance|War : 4.25\n",
      "Drama|Film-Noir : 4.22\n",
      "Crime|Film-Noir|Mystery : 4.2\n",
      "\n",
      "top 10 low rated Genres \n",
      "Action|Adventure|Children's : 1.32\n",
      "Action|Children's : 1.64\n",
      "Action|Adventure|Children's|Sci-Fi : 1.87\n",
      "Comedy|Film-Noir|Thriller : 2.0\n",
      "Action|Adventure|Children's|Fantasy : 2.09\n",
      "Action|Sci-Fi|Western : 2.16\n",
      "Action|Adventure|Mystery|Sci-Fi : 2.24\n",
      "Action|Children's|Fantasy : 2.24\n",
      "Action|Adventure|Comedy|War : 2.28\n",
      "Horror|Sci-Fi|Thriller : 2.39\n"
     ]
    }
   ],
   "source": [
    "with open(r\"D:\\for practice\\ml-1m\\ratings.dat\",\"r\") as f, open(r\"D:\\for practice\\ml-1m\\movies.dat\",\"r\") as d : #UserID::MovieID::Rating::Timestamp\n",
    "    rating_data = f.readlines()                                                                                #MovieID::Title::Genres\n",
    "    movie_data = d.readlines()\n",
    "    \n",
    "MovieID_avg_count = dict() # this dict is use to stored the count and sum of each movie rating which rated by audiance\n",
    "for line in rating_data:\n",
    "    line = line.strip()\n",
    "    columns = list(map(int, line.split('::')))\n",
    " \n",
    "\n",
    "    if columns[1] in MovieID_avg_count:\n",
    "        MovieID_avg_count[columns[1]][0] += columns[2]\n",
    "        MovieID_avg_count[columns[1]][1] +=  1\n",
    "    else: \n",
    "        MovieID_avg_count[columns[1]] = [0,0]\n",
    "        MovieID_avg_count[columns[1]][0] = columns[2]\n",
    "        MovieID_avg_count[columns[1]][1] =  1\n",
    "    if columns[1] == 51:\n",
    "        print(columns)\n",
    "        \n",
    "\n",
    "avg_of_rating = [round(MovieID_avg_count[i][0]/MovieID_avg_count[i][1], 2) for i in MovieID_avg_count]\n",
    "movie_avg_rating = dict(zip(MovieID_avg_count.keys(), avg_of_rating)) # we assgin avg rating to ṃovieID\n",
    "\n",
    "\n",
    "\n",
    "genres_rating_with_count = dict() # we crated the dict where we can stored the total rating and sum of all rating of each genres\n",
    "for line in movie_data[:]:\n",
    "    line = line.strip()\n",
    "    columns = list(map(str, line.split('::')))\n",
    "    columns[0] = int(columns[0])\n",
    " \n",
    "    if columns[2] in genres_rating_with_count:\n",
    "        if columns[0] in movie_avg_rating :\n",
    "            genres_rating_with_count[columns[2]][0] += movie_avg_rating[columns[0]]\n",
    "            genres_rating_with_count[columns[2]][1] +=  1 \n",
    "            \n",
    "    else :\n",
    "        if columns[0] in movie_avg_rating :\n",
    "            genres_rating_with_count[columns[2]] = [0,0]\n",
    "            genres_rating_with_count[columns[2]][0] = movie_avg_rating[columns[0]]\n",
    "            genres_rating_with_count[columns[2]][1] =  1\n",
    "\n",
    "\n",
    "print(\"Most frequently rated Genres = \",max(genres_rating_with_count.items(),key=lambda x: x[1][1] ),\"\\n\") \n",
    "\n",
    "avgrating_ = [round(genres_rating_with_count[i][0]/genres_rating_with_count[i][1], 2) for i in genres_rating_with_count]\n",
    "Genres_avg_rating = dict(zip(genres_rating_with_count.keys(), avgrating_)) # we assgin avg rating to ṃovieID\n",
    "\n",
    "Top10_high_rating = dict(sorted(Genres_avg_rating.items(),key=lambda x: x[1] ,reverse=True)[:10]) \n",
    "Top10_low_rating = dict(sorted(Genres_avg_rating.items(),key=lambda x: x[1] )[:10])\n",
    "\n",
    "print(\"top 10 high rated Genres \")\n",
    "for a, b in Top10_high_rating.items():\n",
    "    print(f\"{a} : {b}\")\n",
    "print()\n",
    "    \n",
    "print(\"top 10 low rated Genres \") \n",
    "for a, b in Top10_low_rating.items():\n",
    "    print(f\"{a} : {b}\")\n"
   ]
  },
  {
   "cell_type": "code",
   "execution_count": null,
   "id": "267a0696-302b-43a3-b61d-e53e9f8fd0b3",
   "metadata": {},
   "outputs": [],
   "source": []
  },
  {
   "cell_type": "code",
   "execution_count": null,
   "id": "196c9911-8fe5-424f-89ac-3620dd39f3b1",
   "metadata": {},
   "outputs": [],
   "source": []
  }
 ],
 "metadata": {
  "kernelspec": {
   "display_name": "Python [conda env:base] *",
   "language": "python",
   "name": "conda-base-py"
  },
  "language_info": {
   "codemirror_mode": {
    "name": "ipython",
    "version": 3
   },
   "file_extension": ".py",
   "mimetype": "text/x-python",
   "name": "python",
   "nbconvert_exporter": "python",
   "pygments_lexer": "ipython3",
   "version": "3.12.7"
  }
 },
 "nbformat": 4,
 "nbformat_minor": 5
}
