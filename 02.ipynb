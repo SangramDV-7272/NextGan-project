{
 "cells": [
  {
   "cell_type": "markdown",
   "metadata": {},
   "source": [
    "# 2. Genre Insights"
   ]
  },
  {
   "cell_type": "markdown",
   "metadata": {},
   "source": [
    "### 1. Which movie genres are the most frequently rated?"
   ]
  },
  {
   "cell_type": "code",
   "execution_count": 5,
   "metadata": {},
   "outputs": [],
   "source": [
    "with open(r\"D:\\for practice\\ml-1m\\ratings.dat\",\"r\") as f, open(r\"D:\\for practice\\ml-1m\\movies.dat\",\"r\") as d : #UserID::MovieID::Rating::Timestamp\n",
    "    rating_data = f.readlines()                                                                                #MovieID::Title::Genres\n",
    "    movie_data = d.readlines()\n",
    " "
   ]
  },
  {
   "cell_type": "code",
   "execution_count": null,
   "metadata": {},
   "outputs": [
    {
     "name": "stdout",
     "output_type": "stream",
     "text": [
      "Most Frequently Rated Genres:\n",
      "['Comedy: 356581 ratings']\n"
     ]
    }
   ],
   "source": [
    "movieId_with_genres = dict()\n",
    "\n",
    "for line in movie_data:\n",
    "    columns = line.strip().split('::')\n",
    "\n",
    "    movie_id = int(columns[0])\n",
    "    genres = columns[2].strip().split('|')\n",
    "\n",
    "    movieId_with_genres[movie_id] = genres\n",
    "\n",
    "# Initialize dictionaries to store genre counts and ratings\n",
    "genre_rating_sums_counts = {}\n",
    "\n",
    "\n",
    "# Process the ratings data\n",
    "for line in rating_data:\n",
    "    columns = line.strip().split('::')\n",
    "    movie_id = int(columns[1])\n",
    "    rating = int(columns[2])\n",
    "    \n",
    "    genres = movieId_with_genres[movie_id]\n",
    "    for genre in genres:\n",
    "        if genre not in genre_rating_sums_counts:\n",
    "            genre_rating_sums_counts[genre] = [0, 0] \n",
    "            genre_rating_sums_counts[genre][0] = rating\n",
    "            genre_rating_sums_counts[genre][1] = 1\n",
    "        \n",
    "        genre_rating_sums_counts[genre][0] += rating\n",
    "        genre_rating_sums_counts[genre][1] += 1\n",
    "\n",
    "\n",
    "sorted_genre_counts = sorted(genre_rating_sums_counts.items(), key=lambda x: x[1][1], reverse=True)[:1]\n",
    "\n",
    "print(\"Most Frequently Rated Genres:\")\n",
    "for genre, count in sorted_genre_counts:\n",
    "    print(f\"{genre}: {count[1]} ratings\" )\n",
    "\n"
   ]
  },
  {
   "cell_type": "markdown",
   "metadata": {},
   "source": [
    "### 2. Compare the average ratings across different genres. Are certain genres consistently rated higher or lower?"
   ]
  },
  {
   "cell_type": "code",
   "execution_count": 3,
   "metadata": {},
   "outputs": [
    {
     "name": "stdout",
     "output_type": "stream",
     "text": [
      "\n",
      "Average Ratings Across Different Genres:\n",
      "Film-Noir: 4.08 average rating\n",
      "Documentary: 3.93 average rating\n",
      "War: 3.89 average rating\n",
      "Drama: 3.77 average rating\n",
      "Crime: 3.71 average rating\n",
      "Animation: 3.68 average rating\n",
      "Mystery: 3.67 average rating\n",
      "Musical: 3.67 average rating\n",
      "Western: 3.64 average rating\n",
      "Romance: 3.61 average rating\n",
      "Thriller: 3.57 average rating\n",
      "Comedy: 3.52 average rating\n",
      "Action: 3.49 average rating\n",
      "Adventure: 3.48 average rating\n",
      "Sci-Fi: 3.47 average rating\n",
      "Fantasy: 3.45 average rating\n",
      "Children's: 3.42 average rating\n",
      "Horror: 3.22 average rating\n"
     ]
    }
   ],
   "source": [
    "genre_avg_ratings = {genre: genre_rating_sums_counts[genre][0] / genre_rating_sums_counts[genre][1] for genre in genre_rating_sums_counts}\n",
    "sorted_genre_ratings = sorted(genre_avg_ratings.items(), key=lambda x: x[1], reverse=True)\n",
    "\n",
    "print(\"\\nAverage Ratings Across Different Genres:\")\n",
    "for genre, avg_rating in sorted_genre_ratings:\n",
    "    print(f\"{genre}: {avg_rating:.2f} average rating\")\n",
    "\n"
   ]
  },
  {
   "cell_type": "code",
   "execution_count": null,
   "metadata": {},
   "outputs": [],
   "source": []
  }
 ],
 "metadata": {
  "kernelspec": {
   "display_name": "Python 3",
   "language": "python",
   "name": "python3"
  },
  "language_info": {
   "codemirror_mode": {
    "name": "ipython",
    "version": 3
   },
   "file_extension": ".py",
   "mimetype": "text/x-python",
   "name": "python",
   "nbconvert_exporter": "python",
   "pygments_lexer": "ipython3",
   "version": "3.13.1"
  }
 },
 "nbformat": 4,
 "nbformat_minor": 2
}
