{
 "cells": [
  {
   "cell_type": "markdown",
   "metadata": {},
   "source": [
    "# Top Performers"
   ]
  },
  {
   "cell_type": "markdown",
   "metadata": {},
   "source": [
    "#### 1. Identify the movies with the highest average ratings (considering a minimum number of ratings for fairness)."
   ]
  },
  {
   "cell_type": "code",
   "execution_count": 4,
   "metadata": {},
   "outputs": [],
   "source": [
    "with open(\"ml-1m\\\\ratings.dat\",\"r\") as f, open(\"ml-1m\\\\movies.dat\",\"r\") as d, open(\"ml-1m\\\\users.dat\",\"r\") as s : #UserID::MovieID::Rating::Timestamp\n",
    "    rating_data = f.readlines()                                                                                   #MovieID::Title::Genres\n",
    "    movie_data = d.readlines()                                                                                    #UserID::Gender::Age::Occupation::Zip-code\n",
    "    user_data = s.readlines()"
   ]
  },
  {
   "cell_type": "code",
   "execution_count": 37,
   "metadata": {},
   "outputs": [
    {
     "name": "stdout",
     "output_type": "stream",
     "text": [
      "Top 10 movies with the highest average ratings:\n",
      "{50: '50 Usual Suspects, The (1995)', 318: '318 Shawshank Redemption, The (1994)', 527: \"527 Schindler's List (1993)\", 745: '745 Close Shave, A (1995)', 858: '858 Godfather, The (1972)', 922: '922 Sunset Blvd. (a.k.a. Sunset Boulevard) (1950)', 1148: '1148 Wrong Trousers, The (1993)', 1198: '1198 Raiders of the Lost Ark (1981)', 2019: '2019 Seven Samurai (The Magnificent Seven) (Shichinin no samurai) (1954)', 2905: '2905 Sanjuro (1962)'}\n",
      "Movie Name 2905 Sanjuro (1962): 4.60\n",
      "Movie Name 2019 Seven Samurai (The Magnificent Seven) (Shichinin no samurai) (1954): 4.56\n",
      "Movie Name 318 Shawshank Redemption, The (1994): 4.55\n",
      "Movie Name 858 Godfather, The (1972): 4.52\n",
      "Movie Name 745 Close Shave, A (1995): 4.52\n",
      "Movie Name 50 Usual Suspects, The (1995): 4.52\n",
      "Movie Name 527 Schindler's List (1993): 4.51\n",
      "Movie Name 1148 Wrong Trousers, The (1993): 4.51\n",
      "Movie Name 922 Sunset Blvd. (a.k.a. Sunset Boulevard) (1950): 4.49\n",
      "Movie Name 1198 Raiders of the Lost Ark (1981): 4.48\n"
     ]
    }
   ],
   "source": [
    "movies_ratings_dict = dict()\n",
    "\n",
    "for i in rating_data:\n",
    "    _, movieID, rating, _ = map(int, i.split(\"::\"))\n",
    "\n",
    "    if movieID not in movies_ratings_dict:\n",
    "        movies_ratings_dict[movieID] = [rating, 1]\n",
    "    \n",
    "    movies_ratings_dict[movieID][0] += rating\n",
    "    movies_ratings_dict[movieID][1] += 1\n",
    "\n",
    "# Filter movies with at least a minimum number of ratings (e.g., 50)\n",
    "min_ratings = 50 \n",
    "movies_ratings_dict = {k: (v[0]/v[1]) for k, v in movies_ratings_dict.items() if v[1] > min_ratings}\n",
    "\n",
    "movies_ratings_dict_Top10 = dict(sorted(movies_ratings_dict.items(), key=lambda x: x[1] , reverse=True)[:10])\n",
    " \n",
    "movies_ratings_dict_Top10_names = dict()\n",
    "print(\"Top 10 movies with the highest average ratings:\")\n",
    "for line in movie_data:\n",
    "    movieID, title, _ = line.split(\"::\")\n",
    "    movieID = int(movieID)\n",
    "    if movieID in movies_ratings_dict_Top10:\n",
    "        movies_ratings_dict_Top10_names[movieID] =f\"{movieID} {title}\" \n",
    "\n",
    "for k, v in movies_ratings_dict_Top10.items():\n",
    "    print(f\"Movie Name {movies_ratings_dict_Top10_names[k]}: {v:.2f}\")"
   ]
  },
  {
   "cell_type": "markdown",
   "metadata": {},
   "source": [
    "### 2. Analyze the characteristics of top-rated movies (e.g., release year, genres)."
   ]
  },
  {
   "cell_type": "code",
   "execution_count": 47,
   "metadata": {},
   "outputs": [],
   "source": [
    "# Create a dictionary to store movie information\n",
    "movie_info = {}\n",
    "for line in movie_data:\n",
    "    columns = line.split('::')\n",
    "    movie_id = int(columns[0])\n",
    "    genres = columns[2].strip().split('|')\n",
    "    movie_info[movie_id] = genres\n",
    "    \n",
    "# 1: ['Animation', \"Children's\", 'Comedy'],"
   ]
  },
  {
   "cell_type": "code",
   "execution_count": 46,
   "metadata": {},
   "outputs": [
    {
     "name": "stdout",
     "output_type": "stream",
     "text": [
      "Top 10 movies with the highest average ratings by genre:\n",
      "Genre Action:\n",
      "Movie Name 2905 Sanjuro (1962)\n",
      "Movie Name 2019 Seven Samurai (The Magnificent Seven) (Shichinin no samurai) (1954)\n",
      "Movie Name 858 Godfather, The (1972)\n",
      "Movie Name 1198 Raiders of the Lost Ark (1981)\n",
      "\n",
      "Genre Adventure:\n",
      "Movie Name 2905 Sanjuro (1962)\n",
      "Movie Name 1198 Raiders of the Lost Ark (1981)\n",
      "\n",
      "Genre Drama:\n",
      "Movie Name 2019 Seven Samurai (The Magnificent Seven) (Shichinin no samurai) (1954)\n",
      "Movie Name 318 Shawshank Redemption, The (1994)\n",
      "Movie Name 858 Godfather, The (1972)\n",
      "Movie Name 527 Schindler's List (1993)\n",
      "\n",
      "Genre Crime:\n",
      "Movie Name 858 Godfather, The (1972)\n",
      "Movie Name 50 Usual Suspects, The (1995)\n",
      "\n",
      "Genre Animation:\n",
      "Movie Name 745 Close Shave, A (1995)\n",
      "Movie Name 1148 Wrong Trousers, The (1993)\n",
      "\n",
      "Genre Comedy:\n",
      "Movie Name 745 Close Shave, A (1995)\n",
      "Movie Name 1148 Wrong Trousers, The (1993)\n",
      "\n",
      "Genre Thriller:\n",
      "Movie Name 745 Close Shave, A (1995)\n",
      "Movie Name 50 Usual Suspects, The (1995)\n",
      "\n",
      "Genre War:\n",
      "Movie Name 527 Schindler's List (1993)\n",
      "\n",
      "Genre Film-Noir:\n",
      "Movie Name 922 Sunset Blvd. (a.k.a. Sunset Boulevard) (1950)\n",
      "\n"
     ]
    }
   ],
   "source": [
    "top_movie_genres = dict()\n",
    "top_movie_years = dict()\n",
    "\n",
    "for movie_id in movies_ratings_dict_Top10.keys():\n",
    "    genres = movie_info[movie_id]\n",
    "    for genre in genres:\n",
    "        if genre not in top_movie_genres:\n",
    "            top_movie_genres[genre] = [movie_id]\n",
    "        else:\n",
    "            top_movie_genres[genre].append(movie_id)\n",
    "\n",
    "    year = int(movies_ratings_dict_Top10_names[movie_id].split(\" \")[-1][1:-1])\n",
    "    if year not in top_movie_years:\n",
    "        top_movie_years[year] = [movie_id]\n",
    "    else:\n",
    "        top_movie_years[year].append(movie_id)\n",
    "\n",
    "print(\"Top 10 movies with the highest average ratings by genre:\")\n",
    "for genre, movies in top_movie_genres.items():\n",
    "    print(f\"Genre {genre}:\")\n",
    "    for movie_id in movies:\n",
    "        print(f\"Movie Name {movies_ratings_dict_Top10_names[movie_id]}\")\n",
    "    print()\n"
   ]
  },
  {
   "cell_type": "code",
   "execution_count": 48,
   "metadata": {},
   "outputs": [
    {
     "name": "stdout",
     "output_type": "stream",
     "text": [
      "Top 10 movies with the highest average ratings by year:\n",
      "Year 1950:\n",
      "Movie Name 922 Sunset Blvd. (a.k.a. Sunset Boulevard) (1950)\n",
      "\n",
      "Year 1954:\n",
      "Movie Name 2019 Seven Samurai (The Magnificent Seven) (Shichinin no samurai) (1954)\n",
      "\n",
      "Year 1962:\n",
      "Movie Name 2905 Sanjuro (1962)\n",
      "\n",
      "Year 1972:\n",
      "Movie Name 858 Godfather, The (1972)\n",
      "\n",
      "Year 1981:\n",
      "Movie Name 1198 Raiders of the Lost Ark (1981)\n",
      "\n",
      "Year 1993:\n",
      "Movie Name 527 Schindler's List (1993)\n",
      "Movie Name 1148 Wrong Trousers, The (1993)\n",
      "\n",
      "Year 1994:\n",
      "Movie Name 318 Shawshank Redemption, The (1994)\n",
      "\n",
      "Year 1995:\n",
      "Movie Name 745 Close Shave, A (1995)\n",
      "Movie Name 50 Usual Suspects, The (1995)\n",
      "\n"
     ]
    }
   ],
   "source": [
    "top_movie_years = dict(sorted(top_movie_years.items(), key=lambda x: x[0]))\n",
    "print(\"Top 10 movies with the highest average ratings by year:\")\n",
    "for year, movies in top_movie_years.items():\n",
    "    print(f\"Year {year}:\")\n",
    "    for movie_id in movies:\n",
    "        print(f\"Movie Name {movies_ratings_dict_Top10_names[movie_id]}\")\n",
    "    print()"
   ]
  },
  {
   "cell_type": "code",
   "execution_count": null,
   "metadata": {},
   "outputs": [],
   "source": []
  }
 ],
 "metadata": {
  "kernelspec": {
   "display_name": "Python 3",
   "language": "python",
   "name": "python3"
  },
  "language_info": {
   "codemirror_mode": {
    "name": "ipython",
    "version": 3
   },
   "file_extension": ".py",
   "mimetype": "text/x-python",
   "name": "python",
   "nbconvert_exporter": "python",
   "pygments_lexer": "ipython3",
   "version": "3.13.1"
  }
 },
 "nbformat": 4,
 "nbformat_minor": 2
}
